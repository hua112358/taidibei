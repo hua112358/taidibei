{
 "cells": [
  {
   "cell_type": "code",
   "execution_count": 21,
   "metadata": {
    "scrolled": true
   },
   "outputs": [],
   "source": [
    "import time\n",
    "t1 = time.time()\n",
    "user_play_1 = pd.read_excel(\"附件1：用户收视信息.xlsx\", encoding= 'gb18030', sheetname=\"用户点播信息\")\n",
    "user_play_2 = pd.read_excel(\"附件1：用户收视信息.xlsx\", encoding= 'gb18030', sheetname=\"用户单片点播信息\") \n",
    "user_play_2.rename(columns={\"影片名称\":\"节目名称\"}, inplace=True)\n",
    "all_program = pd.read_csv(\"item_info.csv\", encoding=\"GB18030\")"
   ]
  },
  {
   "cell_type": "code",
   "execution_count": 22,
   "metadata": {},
   "outputs": [],
   "source": [
    "import re\n",
    "import pandas as pd\n",
    "pd.set_option('display.max_columns', None)\n",
    "\n",
    "def clean_by_pattern(df):\n",
    "    pattern = \"^\\d+\\-\\d+(\\w+)?\"\n",
    "    df[pattern] = [re.findall(pattern, i) for i in df[\"节目名称\"]]\n",
    "    df[pattern+\"_true\"] = [len(i)!=0 for i in df[pattern]]\n",
    "    df.loc[df[pattern+\"_true\"], \"节目名称\"] = [i[0] for i in df.loc[df[pattern+\"_true\"], pattern]]\n",
    "    df.drop([pattern, \"^\\d+\\-\\d+(\\w+)?_true\"], axis=1, inplace=True)\n",
    "    return df\n",
    "\n",
    "def clean_program_name(df):\n",
    "    '''\n",
    "    清洗节目名称的函数\n",
    "    '''\n",
    "    \n",
    "    key_words = [\"甜果学堂\", \"花城全视角\", \"花开花城\", \"优·秀\", \"体育竞技广告\", \"甜果屋\",\"甜果课堂\", \"今天我上线\", \"兔智来了\", \"神奇萝卜\", \"舌尖上的中国Ⅱ\", \n",
    "             \"开心超人联盟\", \"舌尖上的中国\", \"星际小蚂蚁\", \"小小羊提米\", \"食得健康吗\", \"阿U\", \"经典广告\", \"爆裂飞车\", \"赌城群英会\", \n",
    "             \"综艺娱乐广告\", \"维多利亚的秘密\", \"开心球\", \"食得健康吗\", \"大鹏嘚吧嘚\", \"黑子的篮球\", \"斗龙战士4\", \"西游记\", \"西游记续\", \n",
    "            \"生肖传奇\", \"那年花开月正圆\", \"家庭影院广告\", \"频道一广告\", \"宣传频道广告\", \"野外独游\", \"改变世界的武器\", \"厝边头尾\", \n",
    "            \"圣龙的守护\", \"启源星之战\", \"战神崛起\", \"最终幻想\", \"头号公敌\", \"赛尔号4\", \"贪狼\",\n",
    "            \"关晓彤生日会\", \"CP\",\"170415平安365\", \"电视剧场广告\", \"我的电视广告\"]\n",
    "    \n",
    "    \n",
    "    # 去掉名称前后的括号() \n",
    "    df[\"节目名称\"] = [re.sub(\"\\(\\S*?\\)+?\", \"\", i) for i in df[\"节目名称\"]]\n",
    "    df[\"节目名称\"] = [re.sub(\"\\(.*\", \"\", i) for i in df[\"节目名称\"]]\n",
    "    df[\"节目名称\"] = [re.sub(\"（\\S*?）+?\", \"\", i) for i in df[\"节目名称\"]]\n",
    "    df[\"节目名称\"] = [re.sub(\"（\\S*?\\)+?\", \"\", i) for i in df[\"节目名称\"]]\n",
    "    # 去掉名称前的日期 \n",
    "    for i in df[\"节目名称\"].index: \n",
    "        if re.findall(r\"月(.+)日 ?(.+)\", df.loc[i, \"节目名称\"]): \n",
    "                df.loc[i, \"节目名称\"] = re.search(r\"月(.+)日 ?(.+)\", df.loc[i, \"节目名称\"]).group(2) \n",
    "        if \"】\" in df.loc[i, \"节目名称\"]: \n",
    "            df.loc[i, \"节目名称\"] = df.loc[i, \"节目名称\"].split(\"】\")[1]\n",
    "        if \"：\" in df.loc[i, \"节目名称\"]:\n",
    "            df.loc[i, \"节目名称\"] = df.loc[i, \"节目名称\"].split(\"：\")[0]\n",
    "        if \" \"  in df.loc[i, \"节目名称\"]:  \n",
    "            df.loc[i, \"节目名称\"] = df.loc[i, \"节目名称\"].split(\" \")[0]\n",
    "        \n",
    "        if \"《\" in df.loc[i, \"节目名称\"]: \n",
    "                df.loc[i, \"节目名称\"] = re.search(r\"《(.+)》?(.+)\", df.loc[i, \"节目名称\"]).group(1) \n",
    "                \n",
    "        for key_word in key_words:\n",
    "            if key_word in df.loc[i, \"节目名称\"]:\n",
    "                df.loc[i, \"节目名称\"] = key_word    \n",
    "    df = clean_by_pattern(df)\n",
    "    df.drop(df.loc[df[\"节目名称\"].str.contains(\"测试\")].index, inplace=True)\n",
    "    \n",
    "\n",
    "def to_diclist(df):\n",
    "    '''\n",
    "    将节目信息转成字典列表\n",
    "    '''\n",
    "    new_tfv = df\n",
    "    new_tfv_list = []\n",
    "    for i in new_tfv.index:\n",
    "        new_tfvs = {}\n",
    "        new_tfvs[\"节目名称\"] = new_tfv[\"节目名称\"][i]\n",
    "        new_tfvs[\"类型\"] = new_tfv[\"类型\"][i]\n",
    "        new_tfvs[\"形式\"] = new_tfv[\"形式\"][i]\n",
    "        new_tfvs[\"声道语种\"] = new_tfv[\"声道语种\"][i]\n",
    "        new_tfvs[\"地区参数\"] = new_tfv[\"地区参数\"][i]\n",
    "        new_tfv_list.append(new_tfvs)\n",
    "    return new_tfv_list\n",
    "\n",
    "\n",
    "\n",
    "def add_feature(all_user):\n",
    "    for i in list(set(all_user[\"节目名称\"])):\n",
    "        if i in list(set(all_program[\"节目名称\"])):\n",
    "            all_user.loc[all_user[\"节目名称\"] == i, \"形式\"] = all_program.loc[all_program[\"节目名称\"]== i ][\"形式\"].values[0]\n",
    "            all_user.loc[all_user[\"节目名称\"] == i, \"地区参数\"] = all_program.loc[all_program[\"节目名称\"]== i ][\"地区参数\"].values[0]\n",
    "            all_user.loc[all_user[\"节目名称\"] == i, \"声道语种\"] = all_program.loc[all_program[\"节目名称\"]== i ][\"声道语种\"].values[0]\n",
    "            all_user.loc[all_user[\"节目名称\"] == i, \"类型\"] = all_program.loc[all_program[\"节目名称\"]== i ][\"类型\"].values[0]\n",
    "    return all_user"
   ]
  },
  {
   "cell_type": "code",
   "execution_count": 23,
   "metadata": {
    "scrolled": true
   },
   "outputs": [
    {
     "name": "stdout",
     "output_type": "stream",
     "text": [
      "用时： 132.5978775024414\n"
     ]
    }
   ],
   "source": [
    "clean_program_name(user_play_1)\n",
    "clean_program_name(user_play_2)\n",
    "user_play_1.drop_duplicates(inplace=True)\n",
    "user_play_2.drop_duplicates(inplace=True)\n",
    "user_1 = user_play_1[[\"设备号\", \"节目名称\"]]\n",
    "user_2 = user_play_2[[\"设备号\", \"节目名称\"]]\n",
    "user_program = user_1.append(user_2)\n",
    "user_program.reset_index(drop=True, inplace=True)\n",
    "\n",
    "t2 = time.time()\n",
    "print(\"用时：\", t2-t1)"
   ]
  },
  {
   "cell_type": "markdown",
   "metadata": {},
   "source": [
    "# 判断用户点播的节目中是否有新产品"
   ]
  },
  {
   "cell_type": "markdown",
   "metadata": {},
   "source": [
    "####【循环】"
   ]
  },
  {
   "cell_type": "code",
   "execution_count": 5,
   "metadata": {},
   "outputs": [],
   "source": [
    "#判断是否有新的电视产品\n",
    "new_prod = []\n",
    "user_tfv = list(set(user_program[\"节目名称\"]))\n",
    "for i in user_tfv:\n",
    "    if i not in list(all_program[\"节目名称\"]):\n",
    "        new_prod.append(i)"
   ]
  },
  {
   "cell_type": "code",
   "execution_count": 6,
   "metadata": {
    "scrolled": true
   },
   "outputs": [
    {
     "data": {
      "text/plain": [
       "0"
      ]
     },
     "execution_count": 6,
     "metadata": {},
     "output_type": "execute_result"
    }
   ],
   "source": [
    "len(new_prod) #空列表则表示没有新节目，就可以跳过【添加新节目到数据库】这一步"
   ]
  },
  {
   "cell_type": "markdown",
   "metadata": {},
   "source": [
    "### 【添加新节目到数据库】"
   ]
  },
  {
   "cell_type": "code",
   "execution_count": 85,
   "metadata": {
    "collapsed": true
   },
   "outputs": [],
   "source": [
    "#若有新节目，则执行下面两步操作\n",
    "import requests\n",
    "from lxml import etree\n",
    "from fake_useragent import UserAgent\n",
    "\n",
    "\n",
    "# 代理服务器\n",
    "proxyHost = \"http-cla.abuyun.com\"\n",
    "proxyPort = \"9030\"\n",
    "\n",
    "# 代理隧道验证信息\n",
    "proxyUser = \"HKB8867XIP4PI1EC\"\n",
    "proxyPass = \"3FA0788983ACC3C6\"\n",
    "\n",
    "proxyMeta = \"http://%(user)s:%(pass)s@%(host)s:%(port)s\" % {\n",
    "      \"host\" : proxyHost,\n",
    "      \"port\" : proxyPort,\n",
    "      \"user\" : proxyUser,\n",
    "      \"pass\" : proxyPass,\n",
    "    }\n",
    "\n",
    "proxies = {\n",
    "        \"http\"  : proxyMeta,\n",
    "        \"https\" : proxyMeta,\n",
    "    }\n",
    "\n",
    "\n",
    "\n",
    "headers = {\"User-Agent\":\"Mozilla/5.0 (Windows NT 10.0; Win64; x64) AppleWebKit/537.36 (KHTML, like Gecko) Chrome/65.0.3325.162 Safari/537.36\"\n",
    "           \n",
    "          }\n",
    "\n",
    "def parse_url(url):\n",
    "    try:\n",
    "        r = requests.get(url, headers=headers,proxies=proxies, timeout =20)\n",
    "        r.raise_for_status()\n",
    "        response = r.content.decode()\n",
    "        html = etree.HTML(response)\n",
    "        return html\n",
    "    except:\n",
    "        print(\"error\")\n",
    "\n",
    "def get_tfv_info(name):\n",
    "    name = name\n",
    "    url = \"https://www.douban.com/search?cat=1002&q={}\".format(name)\n",
    "    name_html = parse_url(url)\n",
    "    name_url = name_html.xpath(\"//*[@id='content']/div/div[1]/div[3]/div[2]/div[1]/div[2]/div/h3/a/@href\")\n",
    "    form = name_html.xpath(\"//*[@id='content']/div/div[1]/div[3]/div[2]/div[1]/div[2]/div/h3/span[1]/text()\")\n",
    "    \n",
    "    tfv ={}\n",
    "    tfv[\"节目名称\"] = name\n",
    "    #形式\n",
    "    if form:\n",
    "        tfv[\"形式\"] = form[0][1:-1]\n",
    "    else:\n",
    "        tfv[\"形式\"] = \"\"\n",
    "        \n",
    "    \n",
    "    try:\n",
    "        info_html = parse_url(name_url[0])\n",
    "        lst_temp = info_html.xpath(\"//*[@id='info']/text()\")\n",
    "        str_temp = \"\".join(lst_temp).strip()\n",
    "        tags = info_html.xpath(\"//div[@id='info']/span[@property='v:genre']/text()\")\n",
    "        tfv[\"类型\"] = tags\n",
    "        tfv[\"地区参数\"] = re.search(\"[日本香港台湾中韩美法英]+国?\", str_temp).group(0)\n",
    "        tfv[\"声道语种\"] = re.search(\"[汉日英粤韩法]语+\", str_temp).group(0)\n",
    "    except:\n",
    "        tfv[\"类型\"] = \"\"\n",
    "        tfv[\"地区参数\"] = \"其他地区\"\n",
    "        tfv[\"声道语种\"] = \"其他\"\n",
    "    \n",
    "    new_tfv_list.append(tfv)\n",
    "    print(tfv)"
   ]
  },
  {
   "cell_type": "code",
   "execution_count": 88,
   "metadata": {
    "collapsed": true
   },
   "outputs": [
    {
     "name": "stdout",
     "output_type": "stream",
     "text": [
      "{'节目名称': '野外独游', '形式': '', '类型': '', '地区参数': '其他地区', '声道语种': '其他'}\n",
      "{'节目名称': '丧子疑云', '形式': '', '类型': '', '地区参数': '其他地区', '声道语种': '其他'}\n",
      "{'节目名称': '蛇胆雄威', '形式': '', '类型': '', '地区参数': '其他地区', '声道语种': '其他'}\n",
      "{'节目名称': '爵士兔之奇幻之旅', '形式': '', '类型': '', '地区参数': '其他地区', '声道语种': '其他'}\n",
      "{'节目名称': '设计来你家', '形式': '', '类型': '', '地区参数': '其他地区', '声道语种': '其他'}\n",
      "{'节目名称': '烹饪的艺术', '形式': '', '类型': '', '地区参数': '其他地区', '声道语种': '其他'}\n",
      "{'节目名称': '空袭生死线', '形式': '', '类型': '', '地区参数': '其他地区', '声道语种': '其他'}\n",
      "{'节目名称': '毁灭前夕', '形式': '', '类型': '', '地区参数': '其他地区', '声道语种': '其他'}\n",
      "{'节目名称': '挑战王者', '形式': '', '类型': '', '地区参数': '其他地区', '声道语种': '其他'}\n",
      "{'节目名称': '小小羊提米提米的宠物问题', '形式': '', '类型': '', '地区参数': '其他地区', '声道语种': '其他'}\n",
      "{'节目名称': '人在?逋？去拖影)', '形式': '', '类型': '', '地区参数': '其他地区', '声道语种': '其他'}\n",
      "{'节目名称': '五彩缤纷的旅途', '形式': '', '类型': '', '地区参数': '其他地区', '声道语种': '其他'}\n",
      "{'节目名称': '芭芭拉', '形式': '', '类型': '', '地区参数': '其他地区', '声道语种': '其他'}\n",
      "{'节目名称': '?潘磕惺？第二季', '形式': '', '类型': '', '地区参数': '其他地区', '声道语种': '其他'}\n",
      "{'节目名称': '新年行动', '形式': '', '类型': '', '地区参数': '其他地区', '声道语种': '其他'}\n",
      "{'节目名称': '160811-02才艺大赛决赛现场视频-高清', '形式': '', '类型': '', '地区参数': '其他地区', '声道语种': '其他'}\n",
      "{'节目名称': '食在?逋荆嘿〈笪？蚋就凳？４？高清)', '形式': '', '类型': '', '地区参数': '其他地区', '声道语种': '其他'}\n",
      "{'节目名称': '师父', '形式': '', '类型': '', '地区参数': '其他地区', '声道语种': '其他'}\n",
      "{'节目名称': '世界名酒品鉴', '形式': '', '类型': '', '地区参数': '其他地区', '声道语种': '其他'}\n",
      "{'节目名称': '疯狂婚礼', '形式': '', '类型': '', '地区参数': '其他地区', '声道语种': '其他'}\n",
      "{'节目名称': '围棋课堂', '形式': '', '类型': '', '地区参数': '其他地区', '声道语种': '其他'}\n",
      "{'节目名称': '全能?灏？高清)', '形式': '', '类型': '', '地区参数': '其他地区', '声道语种': '其他'}\n",
      "{'节目名称': '开厨回家系列1', '形式': '', '类型': '', '地区参数': '其他地区', '声道语种': '其他'}\n",
      "{'节目名称': '巴霍巴利王', '形式': '', '类型': '', '地区参数': '其他地区', '声道语种': '其他'}\n",
      "{'节目名称': '少儿才艺大赛决赛现场', '形式': '', '类型': '', '地区参数': '其他地区', '声道语种': '其他'}\n",
      "{'节目名称': '因纽特人', '形式': '', '类型': '', '地区参数': '其他地区', '声道语种': '其他'}\n",
      "{'节目名称': '家家行运菜', '形式': '', '类型': '', '地区参数': '其他地区', '声道语种': '其他'}\n",
      "{'节目名称': '最新命令', '形式': '', '类型': '', '地区参数': '其他地区', '声道语种': '其他'}\n",
      "{'节目名称': '食在?逋荆撼乱夂？晒莩で佬灬？高清)', '形式': '', '类型': '', '地区参数': '其他地区', '声道语种': '其他'}\n",
      "{'节目名称': '?潘磕惺？第四季', '形式': '', '类型': '', '地区参数': '其他地区', '声道语种': '其他'}\n",
      "{'节目名称': '宝莱坞机器人之恋', '形式': '', '类型': '', '地区参数': '其他地区', '声道语种': '其他'}\n",
      "{'节目名称': '车在?逋？高清)', '形式': '', '类型': '', '地区参数': '其他地区', '声道语种': '其他'}\n",
      "{'节目名称': '谜一样的双眼', '形式': '', '类型': '', '地区参数': '其他地区', '声道语种': '其他'}\n",
      "{'节目名称': '超级玛丽的世界轮子风波', '形式': '', '类型': '', '地区参数': '其他地区', '声道语种': '其他'}\n",
      "{'节目名称': '桑德森实验', '形式': '', '类型': '', '地区参数': '其他地区', '声道语种': '其他'}\n",
      "{'节目名称': '蜿龙', '形式': '', '类型': '', '地区参数': '其他地区', '声道语种': '其他'}\n",
      "用时： 8.49728274345398\n"
     ]
    }
   ],
   "source": [
    "import time\n",
    "from multiprocessing.dummy import Pool as ThreadPool\n",
    "\n",
    "new_tfv_list = []\n",
    "start = time.time()\n",
    "pool = ThreadPool(3)  #设置并发数量\n",
    "pool.map(get_tfv_info,list(new_prod))\n",
    "pool.close() \n",
    "pool.join()\n",
    "end = time.time()\n",
    "print(\"用时：\",end-start)"
   ]
  },
  {
   "cell_type": "code",
   "execution_count": 91,
   "metadata": {
    "collapsed": true
   },
   "outputs": [],
   "source": [
    "new_tfv = pd.DataFrame(new_tfv_list)\n",
    "\n",
    "#首先处理语种，将汉语改为国语，其他的看情况修改\n",
    "new_tfv.loc[new_tfv[\"声道语种\"]==\"汉语\", \"声道语种\"] = \"国语\"\n",
    "\n",
    "#再处理地区参数\n",
    "new_tfv.loc[new_tfv[\"地区参数\"]==\"英\", \"地区参数\"] = \"英国\"\n",
    "new_tfv.loc[new_tfv[\"地区参数\"]==\"中国\", \"地区参数\"] = \"大陆\""
   ]
  },
  {
   "cell_type": "code",
   "execution_count": 78,
   "metadata": {
    "collapsed": true
   },
   "outputs": [],
   "source": [
    "new_tfv.loc[new_tfv[\"节目名称\"].str.contains(\"小蚂蚁\"), \"类型\"] = [['少儿']]\n",
    "new_tfv.loc[new_tfv[\"节目名称\"].str.contains(\"小蚂蚁\"), \"形式\"] = \"科学教育\"\n",
    "new_tfv.loc[new_tfv[\"节目名称\"].str.contains(\"小蚂蚁\"), \"地区参数\"] = \"大陆\"\n",
    "new_tfv.loc[new_tfv[\"节目名称\"].str.contains(\"小蚂蚁\"), \"声道语种\"] = \"国语\"\n",
    "\n",
    "new_tfv.loc[new_tfv[\"节目名称\"].str.contains(\"演唱会\"), \"类型\"] = [['Live']]\n",
    "new_tfv.loc[new_tfv[\"节目名称\"].str.contains(\"演唱会\"), \"形式\"] = \"音乐\"\n",
    "new_tfv.loc[new_tfv[\"节目名称\"].str.contains(\"演唱会\"), \"地区参数\"] = \"大陆\"\n",
    "new_tfv.loc[new_tfv[\"节目名称\"].str.contains(\"演唱会\"), \"声道语种\"] = \"国语\"\n",
    "\n",
    "new_tfv.loc[new_tfv[\"节目名称\"].str.contains(\"甜果\"), \"类型\"] = [['生活']]\n",
    "new_tfv.loc[new_tfv[\"节目名称\"].str.contains(\"甜果\"), \"形式\"] = \"生活服务\"\n",
    "new_tfv.loc[new_tfv[\"节目名称\"].str.contains(\"甜果\"), \"地区参数\"] = \"大陆\"\n",
    "new_tfv.loc[new_tfv[\"节目名称\"].str.contains(\"甜果\"), \"声道语种\"] = \"国语\"\n",
    "\n",
    "new_tfv.loc[new_tfv[\"节目名称\"].str.contains(\"年级\"), \"类型\"] = [['教育']]\n",
    "new_tfv.loc[new_tfv[\"节目名称\"].str.contains(\"年级\"), \"形式\"] = \"生活服务\"\n",
    "new_tfv.loc[new_tfv[\"节目名称\"].str.contains(\"年级\"), \"地区参数\"] = \"大陆\"\n",
    "new_tfv.loc[new_tfv[\"节目名称\"].str.contains(\"年级\"), \"声道语种\"] = \"国语\"\n",
    "\n"
   ]
  },
  {
   "cell_type": "code",
   "execution_count": 87,
   "metadata": {
    "collapsed": true
   },
   "outputs": [],
   "source": [
    "new_tfv = new_tfv.loc[new_tfv['类型']!=\"\"]\n",
    "new_tfv.reset_index(drop=True, inplace=True)"
   ]
  },
  {
   "cell_type": "code",
   "execution_count": 80,
   "metadata": {
    "collapsed": true
   },
   "outputs": [],
   "source": [
    "#将完善信息后的新节目插入数据库中\n",
    "#new_program = to_diclist(new_tfv)\n",
    "#program_collection.insert_many(new_program)\n",
    "\n",
    "all_program = pd.read_csv(\"all_program.csv\", encoding=\"GB18030\")\n",
    "new_all_program = all_program.append(new_tfv)\n",
    "new_all_program.reset_index(drop=True, inplace=True)\n",
    "\n",
    "new_all_program.to_csv(\"all_program.csv\", index=False)"
   ]
  },
  {
   "cell_type": "markdown",
   "metadata": {},
   "source": [
    "####【循环】"
   ]
  },
  {
   "cell_type": "markdown",
   "metadata": {},
   "source": [
    "### 无法从豆瓣爬取的节目手动添加"
   ]
  },
  {
   "cell_type": "code",
   "execution_count": 144,
   "metadata": {},
   "outputs": [
    {
     "data": {
      "text/html": [
       "<div>\n",
       "<style>\n",
       "    .dataframe thead tr:only-child th {\n",
       "        text-align: right;\n",
       "    }\n",
       "\n",
       "    .dataframe thead th {\n",
       "        text-align: left;\n",
       "    }\n",
       "\n",
       "    .dataframe tbody tr th {\n",
       "        vertical-align: top;\n",
       "    }\n",
       "</style>\n",
       "<table border=\"1\" class=\"dataframe\">\n",
       "  <thead>\n",
       "    <tr style=\"text-align: right;\">\n",
       "      <th></th>\n",
       "      <th>地区参数</th>\n",
       "      <th>声道语种</th>\n",
       "      <th>形式</th>\n",
       "      <th>类型</th>\n",
       "      <th>节目名称</th>\n",
       "    </tr>\n",
       "  </thead>\n",
       "  <tbody>\n",
       "  </tbody>\n",
       "</table>\n",
       "</div>"
      ],
      "text/plain": [
       "Empty DataFrame\n",
       "Columns: [地区参数, 声道语种, 形式, 类型, 节目名称]\n",
       "Index: []"
      ]
     },
     "execution_count": 144,
     "metadata": {},
     "output_type": "execute_result"
    }
   ],
   "source": [
    "#根据形式来看有哪些节目没有形式和类型，然后手动添加\n",
    "new_tfv[\"形式\"].value_counts()\n",
    "#new_tfv.loc[new_tfv[\"形式\"]==\"\"]\n",
    "new_tfv.loc[new_tfv[\"类型\"]==\"\"]"
   ]
  },
  {
   "cell_type": "code",
   "execution_count": 136,
   "metadata": {
    "collapsed": true
   },
   "outputs": [],
   "source": [
    "new_tfv.loc[new_tfv[\"节目名称\"].str.contains(\"家家行运菜\"), \"类型\"] = [['生活']]\n",
    "new_tfv.loc[new_tfv[\"节目名称\"].str.contains(\"家家行运菜\"), \"形式\"] = \"生活服务\"\n",
    "new_tfv.loc[new_tfv[\"节目名称\"].str.contains(\"家家行运菜\"), \"地区参数\"] = \"大陆\"\n",
    "new_tfv.loc[new_tfv[\"节目名称\"].str.contains(\"家家行运菜\"), \"声道语种\"] = \"国语\""
   ]
  },
  {
   "cell_type": "code",
   "execution_count": 142,
   "metadata": {
    "collapsed": true
   },
   "outputs": [],
   "source": [
    "new_tfv.loc[new_tfv[\"节目名称\"].str.contains(\"桑德森实验\"), \"类型\"] = [['科幻','惊悚']]\n",
    "new_tfv.loc[new_tfv[\"节目名称\"].str.contains(\"桑德森实验\"), \"形式\"] = \"电影\"\n",
    "new_tfv.loc[new_tfv[\"节目名称\"].str.contains(\"桑德森实验\"), \"地区参数\"] = \"美国\"\n",
    "new_tfv.loc[new_tfv[\"节目名称\"].str.contains(\"桑德森实验\"), \"声道语种\"] = \"英语\""
   ]
  },
  {
   "cell_type": "code",
   "execution_count": 141,
   "metadata": {
    "collapsed": true
   },
   "outputs": [],
   "source": [
    "new_tfv.loc[new_tfv[\"节目名称\"].str.contains(\"谜一样的双眼\"), \"类型\"] = [['剧情','爱情','悬疑']]\n",
    "new_tfv.loc[new_tfv[\"节目名称\"].str.contains(\"谜一样的双眼\"), \"形式\"] = \"电影\"\n",
    "new_tfv.loc[new_tfv[\"节目名称\"].str.contains(\"谜一样的双眼\"), \"地区参数\"] = \"其他地区\"\n",
    "new_tfv.loc[new_tfv[\"节目名称\"].str.contains(\"谜一样的双眼\"), \"声道语种\"] = \"其他\""
   ]
  },
  {
   "cell_type": "code",
   "execution_count": 138,
   "metadata": {
    "collapsed": true
   },
   "outputs": [],
   "source": [
    "new_tfv.loc[new_tfv[\"节目名称\"].str.contains(\"宝莱坞机器人之恋\"), \"类型\"] = [['喜剧','动作', '科幻','冒险','奇幻']]\n",
    "new_tfv.loc[new_tfv[\"节目名称\"].str.contains(\"宝莱坞机器人之恋\"), \"形式\"] = \"电影\"\n",
    "new_tfv.loc[new_tfv[\"节目名称\"].str.contains(\"宝莱坞机器人之恋\"), \"地区参数\"] = \"其他地区\"\n",
    "new_tfv.loc[new_tfv[\"节目名称\"].str.contains(\"宝莱坞机器人之恋\"), \"声道语种\"] = \"其他\""
   ]
  },
  {
   "cell_type": "code",
   "execution_count": 146,
   "metadata": {
    "collapsed": true
   },
   "outputs": [],
   "source": [
    "#将完善信息后的新节目插入数据库中\n",
    "new_all_program = all_program.append(new_tfv)\n",
    "new_all_program.reset_index(drop=True, inplace=True)\n",
    "\n",
    "new_all_program.to_csv(\"item_info_new.csv\", index=False)"
   ]
  },
  {
   "cell_type": "markdown",
   "metadata": {},
   "source": [
    "# get user_item"
   ]
  },
  {
   "cell_type": "code",
   "execution_count": 24,
   "metadata": {},
   "outputs": [],
   "source": [
    "def change_sec(time_str):\n",
    "    hmc = time_str.split(\":\")\n",
    "    sec = int(hmc[0])*60*60 + int(hmc[1])*60 + int(hmc[2])\n",
    "    return sec\n",
    "\n",
    "def change_time(time_sec):\n",
    "    sec = 0\n",
    "    minu = 0\n",
    "    hour = 0\n",
    "    if time_sec < 60:\n",
    "        sec = int(time_sec)\n",
    "    elif time_sec < 3600:\n",
    "        a = divmod(time_sec, 60)\n",
    "        minu = int(a[0])\n",
    "        sec = int(a[1])\n",
    "    else:\n",
    "        b = divmod(time_sec, 60*60)\n",
    "        hour = int(b[0])\n",
    "        if b[1] < 60:\n",
    "            sec = int(b[1])\n",
    "        else:\n",
    "            c = divmod(b[1], 60)\n",
    "            minu = int(c[0])\n",
    "            sec = int(c[1])\n",
    "    time = \"{}:{}:{}\".format(hour, minu, sec)\n",
    "    return time      "
   ]
  },
  {
   "cell_type": "code",
   "execution_count": 25,
   "metadata": {},
   "outputs": [],
   "source": [
    "import time\n",
    "start = time.time()\n",
    "\n",
    "user_play_1 = add_feature(user_play_1)\n",
    "user_play_2 = add_feature(user_play_2)\n",
    "#x新增一列【收看时长（秒）】\n",
    "user_play_2[\"收看时长（秒）\"] = [change_sec(str(i)) for i in user_play_2[\"收看时长\"]]\n",
    "\n"
   ]
  },
  {
   "cell_type": "code",
   "execution_count": 26,
   "metadata": {},
   "outputs": [],
   "source": [
    "a = user_play_2.groupby(by=[\"设备号\", \"节目名称\", \"形式\", \n",
    "                            \"地区参数\",\"声道语种\",\"类型\"], as_index=False)\n",
    "\n",
    "users_list = []\n",
    "for i, j in a:\n",
    "    users = {}\n",
    "    users[\"user\"] = i[0]\n",
    "    users[\"program\"] = i[1]\n",
    "    users[\"form\"] = i[2]\n",
    "    users[\"location\"] = i[3]\n",
    "    users[\"language\"] = i[4]\n",
    "    users[\"tag\"] = i[5]\n",
    "    time_s = j.sort_values(by=\"收看时长（秒）\", ascending=False)[\"收看时长（秒）\"].sum()\n",
    "    avg_time_s = j.sort_values(by=\"收看时长（秒）\", ascending=False)[\"收看时长（秒）\"].sum()/ len(j.sort_values(by=\"收看时长（秒）\", ascending=False))\n",
    "    users[\"avg_time_s\"] = avg_time_s\n",
    "    users[\"time_s\"] = time_s\n",
    "    users_list.append(users)"
   ]
  },
  {
   "cell_type": "code",
   "execution_count": 27,
   "metadata": {},
   "outputs": [],
   "source": [
    "user_play_2_2 = pd.DataFrame(users_list)"
   ]
  },
  {
   "cell_type": "code",
   "execution_count": 28,
   "metadata": {},
   "outputs": [],
   "source": [
    "#单片产品平均收看时长的描述性统计\n",
    "ad_desc2 = user_play_2_2.loc[(user_play_2_2[\"form\"]==\"广告\")].describe()[\"avg_time_s\"]\n",
    "life_desc2 = user_play_2_2.loc[(user_play_2_2[\"form\"]==\"生活服务\")].describe()[\"avg_time_s\"]\n",
    "cartoon_desc2 = user_play_2_2.loc[(user_play_2_2[\"form\"]==\"动画\")].describe()[\"avg_time_s\"]\n",
    "tv_desc2 = user_play_2_2.loc[(user_play_2_2[\"form\"]==\"电视剧\")].describe()[\"avg_time_s\"]\n",
    "science_desc2 = user_play_2_2.loc[(user_play_2_2[\"form\"]==\"科学教育\")].describe()[\"avg_time_s\"]\n",
    "music_desc2 = user_play_2_2.loc[(user_play_2_2[\"form\"]==\"音乐\")].describe()[\"avg_time_s\"]\n",
    "film_desc2 = user_play_2_2.loc[(user_play_2_2[\"form\"]==\"电影\")].describe()[\"avg_time_s\"]\n",
    "variety_desc2 = user_play_2_2.loc[(user_play_2_2[\"form\"]==\"综艺\")].describe()[\"avg_time_s\"]"
   ]
  },
  {
   "cell_type": "code",
   "execution_count": 29,
   "metadata": {
    "scrolled": true
   },
   "outputs": [],
   "source": [
    "for i in user_play_1['形式']:\n",
    "    user_play_1.loc[user_play_1[\"形式\"] == i, \"time_s\"] = user_play_2_2[user_play_2_2[\"form\"]==i][\"avg_time_s\"].mean()"
   ]
  },
  {
   "cell_type": "code",
   "execution_count": 30,
   "metadata": {},
   "outputs": [
    {
     "name": "stderr",
     "output_type": "stream",
     "text": [
      "c:\\users\\huashaojie\\appdata\\local\\programs\\python\\python35\\lib\\site-packages\\pandas\\core\\frame.py:2746: SettingWithCopyWarning: \n",
      "A value is trying to be set on a copy of a slice from a DataFrame\n",
      "\n",
      "See the caveats in the documentation: http://pandas.pydata.org/pandas-docs/stable/indexing.html#indexing-view-versus-copy\n",
      "  **kwargs)\n"
     ]
    }
   ],
   "source": [
    "user_program_1 = user_play_1[[\"设备号\", \"节目名称\", \"形式\", \"地区参数\", \"声道语种\", \"类型\", \"time_s\"]]\n",
    "user_program_2 = user_play_2[[\"设备号\", \"节目名称\", \"形式\", \"地区参数\", \"声道语种\", \"类型\", \"收看时长（秒）\"]]\n",
    "user_program_1.rename(columns={\"设备号\":\"user\",\"节目名称\":\"program\",\"地区参数\":\"location\",\"声道语种\":\"language\",\"类型\":\"tag\",\"形式\":\"form\"},inplace=True)\n",
    "user_program_2.rename(columns={\"设备号\":\"user\",\"节目名称\":\"program\",\"地区参数\":\"location\",\"声道语种\":\"language\",\"类型\":\"tag\",\"形式\":\"form\",\"收看时长（秒）\":\"time_s\"},inplace=True)\n",
    "user_program = user_program_1.append(user_program_2)\n",
    "user_program.reset_index(drop=True, inplace=True)"
   ]
  },
  {
   "cell_type": "code",
   "execution_count": 31,
   "metadata": {},
   "outputs": [
    {
     "name": "stdout",
     "output_type": "stream",
     "text": [
      "用时： 66.59314942359924\n"
     ]
    }
   ],
   "source": [
    "end = time.time()\n",
    "print(\"用时：\",end-start)"
   ]
  },
  {
   "cell_type": "code",
   "execution_count": 32,
   "metadata": {},
   "outputs": [],
   "source": [
    "user_program.to_csv(\"user_item.csv\", index=False)"
   ]
  }
 ],
 "metadata": {
  "kernelspec": {
   "display_name": "Python 3",
   "language": "python",
   "name": "python3"
  },
  "language_info": {
   "codemirror_mode": {
    "name": "ipython",
    "version": 3
   },
   "file_extension": ".py",
   "mimetype": "text/x-python",
   "name": "python",
   "nbconvert_exporter": "python",
   "pygments_lexer": "ipython3",
   "version": "3.5.1"
  }
 },
 "nbformat": 4,
 "nbformat_minor": 2
}
