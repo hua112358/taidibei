{
 "cells": [
  {
   "cell_type": "code",
   "execution_count": 19,
   "metadata": {},
   "outputs": [],
   "source": [
    "import pandas as pd\n",
    "import re\n",
    "import time\n",
    "\n",
    "t1 = time.time()"
   ]
  },
  {
   "cell_type": "code",
   "execution_count": 20,
   "metadata": {},
   "outputs": [],
   "source": [
    "def change_sec(time_str):\n",
    "    hmc = time_str.split(\":\")\n",
    "    sec = int(hmc[0])*60*60 + int(hmc[1])*60 + int(hmc[2])\n",
    "    return sec\n",
    "\n",
    "def change_time(time_sec):\n",
    "    sec = 0\n",
    "    minu = 0\n",
    "    hour = 0\n",
    "    if time_sec < 60:\n",
    "        sec = int(time_sec)\n",
    "    elif time_sec < 3600:\n",
    "        a = divmod(time_sec, 60)\n",
    "        minu = int(a[0])\n",
    "        sec = int(a[1])\n",
    "    else:\n",
    "        b = divmod(time_sec, 60*60)\n",
    "        hour = int(b[0])\n",
    "        if b[1] < 60:\n",
    "            sec = int(b[1])\n",
    "        else:\n",
    "            c = divmod(b[1], 60)\n",
    "            minu = int(c[0])\n",
    "            sec = int(c[1])\n",
    "    time = \"{}:{}:{}\".format(hour, minu, sec)\n",
    "    return time    "
   ]
  },
  {
   "cell_type": "code",
   "execution_count": 21,
   "metadata": {},
   "outputs": [],
   "source": [
    "user_tv_1 = pd.read_excel(\"附件1：用户收视信息.xlsx\", encoding= 'gb18030', sheetname=\"用户收视信息\")\n",
    "user_tv_2 = pd.read_excel(\"附件1：用户收视信息.xlsx\", encoding= 'gb18030', sheetname=\"用户回看信息\")"
   ]
  },
  {
   "cell_type": "code",
   "execution_count": 22,
   "metadata": {},
   "outputs": [],
   "source": [
    "user_tv_1.drop_duplicates(inplace=True)\n",
    "user_tv_2.drop_duplicates(inplace=True)\n",
    "user_tv_1 = user_tv_1[[\"设备号\",\"频道\",\"收看时长\"]]\n",
    "user_tv_2 = user_tv_2[[\"设备号\",\"频道\",\"收看时长\"]]\n",
    "\n",
    "user_tv = user_tv_1.append(user_tv_2)\n",
    "user_tv.reset_index(drop=True, inplace=True)"
   ]
  },
  {
   "cell_type": "code",
   "execution_count": 23,
   "metadata": {},
   "outputs": [],
   "source": [
    "for i in user_tv[\"频道\"].values:\n",
    "    if \"+\" in i or \"-\" in i:\n",
    "        user_tv.loc[user_tv[\"频道\"] == i, \"频道\"] = re.search(r\"(.+)[+-].*\", i).group(1)\n",
    "user_tv.loc[user_tv[\"频道\"] == \"CCTV5\", \"频道\"] = \"中央5台\""
   ]
  },
  {
   "cell_type": "code",
   "execution_count": 24,
   "metadata": {},
   "outputs": [],
   "source": [
    "user_tv[\"收看时长（秒）\"] = [change_sec(str(i))for i in user_tv[\"收看时长\"]]"
   ]
  },
  {
   "cell_type": "code",
   "execution_count": 25,
   "metadata": {},
   "outputs": [],
   "source": [
    "channel_tag = pd.read_excel(\"channel_tag.xlsx\", encoding=\"GB18030\")"
   ]
  },
  {
   "cell_type": "code",
   "execution_count": 26,
   "metadata": {
    "scrolled": true
   },
   "outputs": [],
   "source": [
    "for channel in user_tv[\"频道\"].unique():\n",
    "    user_tv.loc[user_tv[\"频道\"] == channel, \"频道类型\"] = channel_tag.loc[channel_tag.channel == channel, \"form\"].values[0]\n",
    "    user_tv.loc[user_tv[\"频道\"] == channel, \"频道细分\"] = channel_tag.loc[channel_tag.channel == channel, \"tag\"].values[0]"
   ]
  },
  {
   "cell_type": "code",
   "execution_count": 27,
   "metadata": {},
   "outputs": [],
   "source": [
    "a = user_tv[[\"设备号\", \"频道\", \"收看时长（秒）\"]].groupby(by=[\"设备号\", \"频道\"], as_index=False)\n",
    "grouped = a.sum().sort_values(by=[\"设备号\", \"收看时长（秒）\"]).groupby(\"设备号\", as_index=False)\n",
    "\n",
    "user_channel_dict = {}\n",
    "for i, j in grouped:\n",
    "    user_channel_dict[i] = list(j.iloc[-10:, :][\"频道\"].values)"
   ]
  },
  {
   "cell_type": "code",
   "execution_count": 28,
   "metadata": {},
   "outputs": [],
   "source": [
    "d = pd.DataFrame()\n",
    "d[\"user\"] = user_channel_dict.keys()\n",
    "d[\"channel\"] = user_channel_dict.values()"
   ]
  },
  {
   "cell_type": "code",
   "execution_count": 29,
   "metadata": {},
   "outputs": [],
   "source": [
    "b = d.sort_values(by=\"user\").reset_index().drop(\"index\", axis=1)"
   ]
  },
  {
   "cell_type": "code",
   "execution_count": 30,
   "metadata": {
    "scrolled": true
   },
   "outputs": [],
   "source": [
    "forms = []\n",
    "for user in b.values:\n",
    "    channels = []\n",
    "    for channel in user[1]:\n",
    "        channels.append(channel_tag[channel_tag[\"channel\"]==channel][\"form\"].values[0])\n",
    "    forms.append(channels)"
   ]
  },
  {
   "cell_type": "code",
   "execution_count": 31,
   "metadata": {},
   "outputs": [],
   "source": [
    "tags = []\n",
    "for user in b.values:\n",
    "    channels = []\n",
    "    for channel in user[1]:\n",
    "        t = channel_tag[channel_tag[\"channel\"]==channel][\"tag\"].values[0]\n",
    "        if type(t) is str:\n",
    "            channels.append(t)\n",
    "    tags.append(channels)"
   ]
  },
  {
   "cell_type": "code",
   "execution_count": 32,
   "metadata": {},
   "outputs": [],
   "source": [
    "languages = []\n",
    "for user in b.values:\n",
    "    channels = []\n",
    "    for channel in user[1]:\n",
    "        channels.extend(eval(channel_tag[channel_tag[\"channel\"]==channel][\"language\"].values[0]))\n",
    "    languages.append(channels)"
   ]
  },
  {
   "cell_type": "code",
   "execution_count": 33,
   "metadata": {},
   "outputs": [],
   "source": [
    "b[\"form\"] = forms\n",
    "b[\"tag\"] = tags\n",
    "b[\"language\"] = languages"
   ]
  },
  {
   "cell_type": "code",
   "execution_count": 34,
   "metadata": {},
   "outputs": [
    {
     "data": {
      "text/html": [
       "<div>\n",
       "<style>\n",
       "    .dataframe thead tr:only-child th {\n",
       "        text-align: right;\n",
       "    }\n",
       "\n",
       "    .dataframe thead th {\n",
       "        text-align: left;\n",
       "    }\n",
       "\n",
       "    .dataframe tbody tr th {\n",
       "        vertical-align: top;\n",
       "    }\n",
       "</style>\n",
       "<table border=\"1\" class=\"dataframe\">\n",
       "  <thead>\n",
       "    <tr style=\"text-align: right;\">\n",
       "      <th></th>\n",
       "      <th>user</th>\n",
       "      <th>channel</th>\n",
       "      <th>form</th>\n",
       "      <th>tag</th>\n",
       "      <th>language</th>\n",
       "    </tr>\n",
       "  </thead>\n",
       "  <tbody>\n",
       "    <tr>\n",
       "      <th>0</th>\n",
       "      <td>10001</td>\n",
       "      <td>[翡翠台, 中央1台, 东方卫视]</td>\n",
       "      <td>[综合, 综合, 综合]</td>\n",
       "      <td>[]</td>\n",
       "      <td>[粤语, 国语, 国语]</td>\n",
       "    </tr>\n",
       "    <tr>\n",
       "      <th>1</th>\n",
       "      <td>10002</td>\n",
       "      <td>[中央1台, 中央少儿, 北京卫视, 中央5台, 卡酷动画, 湖南卫视, 珠江电影, 南方少...</td>\n",
       "      <td>[综合, 动画, 综合, 体育, 动画, 综合, 电影, 动画, 综合, 综合]</td>\n",
       "      <td>[动画, 各类运动, 动画, 动画]</td>\n",
       "      <td>[国语, 国语, 国语, 国语, 国语, 国语, 国语, 国语, 国语, 国语]</td>\n",
       "    </tr>\n",
       "    <tr>\n",
       "      <th>2</th>\n",
       "      <td>10003</td>\n",
       "      <td>[快乐购物, 安徽卫视, 广州经济, 中央7台, 广东卫视, 东方卫视, 广州生活, 湖南卫...</td>\n",
       "      <td>[生活服务, 综合, 财经, 军事, 综合, 综合, 生活服务, 综合, 综合, 综合]</td>\n",
       "      <td>[购物, 生活]</td>\n",
       "      <td>[国语, 国语, 国语, 国语, 国语, 国语, 国语, 国语, 国语, 国语]</td>\n",
       "    </tr>\n",
       "    <tr>\n",
       "      <th>3</th>\n",
       "      <td>10004</td>\n",
       "      <td>[辽宁卫视, 中央3台, 中央5台, 广东体育, 浙江卫视, 广东卫视, 北京卫视, 中央2...</td>\n",
       "      <td>[综合, 综艺, 体育, 体育, 综合, 综合, 综合, 财经, 综合, 综合]</td>\n",
       "      <td>[各类运动, 各类运动]</td>\n",
       "      <td>[国语, 国语, 国语, 国语, 国语, 国语, 国语, 国语, 国语, 国语]</td>\n",
       "    </tr>\n",
       "    <tr>\n",
       "      <th>4</th>\n",
       "      <td>10005</td>\n",
       "      <td>[深圳卫视, 广东体育, 安徽卫视, 北京卫视, 广东卫视, 江苏卫视, 中央1台, 湖南卫...</td>\n",
       "      <td>[综合, 体育, 综合, 综合, 综合, 综合, 综合, 综合, 综合, 综合]</td>\n",
       "      <td>[各类运动]</td>\n",
       "      <td>[国语, 国语, 国语, 国语, 国语, 国语, 国语, 国语, 国语, 国语]</td>\n",
       "    </tr>\n",
       "  </tbody>\n",
       "</table>\n",
       "</div>"
      ],
      "text/plain": [
       "    user                                            channel  \\\n",
       "0  10001                                  [翡翠台, 中央1台, 东方卫视]   \n",
       "1  10002  [中央1台, 中央少儿, 北京卫视, 中央5台, 卡酷动画, 湖南卫视, 珠江电影, 南方少...   \n",
       "2  10003  [快乐购物, 安徽卫视, 广州经济, 中央7台, 广东卫视, 东方卫视, 广州生活, 湖南卫...   \n",
       "3  10004  [辽宁卫视, 中央3台, 中央5台, 广东体育, 浙江卫视, 广东卫视, 北京卫视, 中央2...   \n",
       "4  10005  [深圳卫视, 广东体育, 安徽卫视, 北京卫视, 广东卫视, 江苏卫视, 中央1台, 湖南卫...   \n",
       "\n",
       "                                           form                 tag  \\\n",
       "0                                  [综合, 综合, 综合]                  []   \n",
       "1      [综合, 动画, 综合, 体育, 动画, 综合, 电影, 动画, 综合, 综合]  [动画, 各类运动, 动画, 动画]   \n",
       "2  [生活服务, 综合, 财经, 军事, 综合, 综合, 生活服务, 综合, 综合, 综合]            [购物, 生活]   \n",
       "3      [综合, 综艺, 体育, 体育, 综合, 综合, 综合, 财经, 综合, 综合]        [各类运动, 各类运动]   \n",
       "4      [综合, 体育, 综合, 综合, 综合, 综合, 综合, 综合, 综合, 综合]              [各类运动]   \n",
       "\n",
       "                                   language  \n",
       "0                              [粤语, 国语, 国语]  \n",
       "1  [国语, 国语, 国语, 国语, 国语, 国语, 国语, 国语, 国语, 国语]  \n",
       "2  [国语, 国语, 国语, 国语, 国语, 国语, 国语, 国语, 国语, 国语]  \n",
       "3  [国语, 国语, 国语, 国语, 国语, 国语, 国语, 国语, 国语, 国语]  \n",
       "4  [国语, 国语, 国语, 国语, 国语, 国语, 国语, 国语, 国语, 国语]  "
      ]
     },
     "execution_count": 34,
     "metadata": {},
     "output_type": "execute_result"
    }
   ],
   "source": [
    "b.head()"
   ]
  },
  {
   "cell_type": "code",
   "execution_count": 35,
   "metadata": {},
   "outputs": [],
   "source": [
    "b.reset_index(drop=True, inplace=True)"
   ]
  },
  {
   "cell_type": "code",
   "execution_count": 36,
   "metadata": {},
   "outputs": [],
   "source": [
    "b.to_csv(\"user_info.csv\", index=False)"
   ]
  },
  {
   "cell_type": "code",
   "execution_count": 37,
   "metadata": {},
   "outputs": [
    {
     "name": "stdout",
     "output_type": "stream",
     "text": [
      "用时： 126.45462584495544\n"
     ]
    }
   ],
   "source": [
    "t2 = time.time()\n",
    "print(\"用时：\", t2-t1)"
   ]
  }
 ],
 "metadata": {
  "kernelspec": {
   "display_name": "Python 3",
   "language": "python",
   "name": "python3"
  },
  "language_info": {
   "codemirror_mode": {
    "name": "ipython",
    "version": 3
   },
   "file_extension": ".py",
   "mimetype": "text/x-python",
   "name": "python",
   "nbconvert_exporter": "python",
   "pygments_lexer": "ipython3",
   "version": "3.5.1"
  }
 },
 "nbformat": 4,
 "nbformat_minor": 2
}
